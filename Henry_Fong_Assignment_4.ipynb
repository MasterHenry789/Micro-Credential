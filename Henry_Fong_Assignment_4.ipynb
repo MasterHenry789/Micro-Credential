{
  "nbformat": 4,
  "nbformat_minor": 0,
  "metadata": {
    "colab": {
      "name": "Henry Fong - Assignment 4.ipynb",
      "provenance": [],
      "collapsed_sections": [],
      "include_colab_link": true
    },
    "kernelspec": {
      "name": "python3",
      "display_name": "Python 3"
    },
    "language_info": {
      "name": "python"
    }
  },
  "cells": [
    {
      "cell_type": "markdown",
      "metadata": {
        "id": "view-in-github",
        "colab_type": "text"
      },
      "source": [
        "<a href=\"https://colab.research.google.com/github/MasterHenry789/Micro-Credential/blob/main/Henry_Fong_Assignment_4.ipynb\" target=\"_parent\"><img src=\"https://colab.research.google.com/assets/colab-badge.svg\" alt=\"Open In Colab\"/></a>"
      ]
    },
    {
      "cell_type": "code",
      "execution_count": null,
      "metadata": {
        "id": "Ad4NHIstlrq9"
      },
      "outputs": [],
      "source": [
        "1\n",
        "video_games = ['Halo','Final Fantasy','The Last of Us','Metal Gear Solid','Splinter Cell']\n"
      ]
    },
    {
      "cell_type": "code",
      "source": [
        "2\n",
        "for games in video_games:\n",
        "  print(games)"
      ],
      "metadata": {
        "colab": {
          "base_uri": "https://localhost:8080/"
        },
        "id": "bBk1dQsbmLcz",
        "outputId": "6a9e60d0-1775-4e89-d597-c164b5c4c84e"
      },
      "execution_count": null,
      "outputs": [
        {
          "output_type": "stream",
          "name": "stdout",
          "text": [
            "Halo\n",
            "Final Fantasy\n",
            "The Last of Us\n",
            "Metal Gear Solid\n",
            "Splinter Cell\n"
          ]
        }
      ]
    },
    {
      "cell_type": "code",
      "source": [
        "3\n",
        "print(video_games[3] + \" is one of my favorite videogames\")"
      ],
      "metadata": {
        "id": "dVJYzFj_mSGX",
        "colab": {
          "base_uri": "https://localhost:8080/"
        },
        "outputId": "cf22a85a-aedc-4d7b-a42f-fbd72418e680"
      },
      "execution_count": null,
      "outputs": [
        {
          "output_type": "stream",
          "name": "stdout",
          "text": [
            "Metal Gear Solid is one of my favorite videogames\n"
          ]
        }
      ]
    },
    {
      "cell_type": "code",
      "source": [
        "4\n",
        "for num in range (1,20):\n",
        "  print(num)"
      ],
      "metadata": {
        "id": "IS1sOwfQnwcr",
        "colab": {
          "base_uri": "https://localhost:8080/"
        },
        "outputId": "5c2e40bd-d13d-43eb-9d2e-0d154b00ab9e"
      },
      "execution_count": null,
      "outputs": [
        {
          "output_type": "stream",
          "name": "stdout",
          "text": [
            "1\n",
            "2\n",
            "3\n",
            "4\n",
            "5\n",
            "6\n",
            "7\n",
            "8\n",
            "9\n",
            "10\n",
            "11\n",
            "12\n",
            "13\n",
            "14\n",
            "15\n",
            "16\n",
            "17\n",
            "18\n",
            "19\n"
          ]
        }
      ]
    },
    {
      "cell_type": "code",
      "source": [
        "5\n",
        "print(video_games)\n",
        "video_games.sort()\n",
        "print(video_games)"
      ],
      "metadata": {
        "id": "uY5sxaIMnxKf",
        "colab": {
          "base_uri": "https://localhost:8080/"
        },
        "outputId": "813e775d-c03a-4165-a483-8efc5735720c"
      },
      "execution_count": null,
      "outputs": [
        {
          "output_type": "stream",
          "name": "stdout",
          "text": [
            "['Halo', 'Final Fantasy', 'The Last of Us', 'Metal Gear Solid', 'Splinter Cell']\n",
            "['Final Fantasy', 'Halo', 'Metal Gear Solid', 'Splinter Cell', 'The Last of Us']\n"
          ]
        }
      ]
    },
    {
      "cell_type": "code",
      "source": [
        "6\n",
        "print(video_games[0:3])"
      ],
      "metadata": {
        "id": "GBSX-OPHnxyh",
        "colab": {
          "base_uri": "https://localhost:8080/"
        },
        "outputId": "0cba6986-5d8b-46a6-b0dc-6a2cc88a5921"
      },
      "execution_count": null,
      "outputs": [
        {
          "output_type": "stream",
          "name": "stdout",
          "text": [
            "['Final Fantasy', 'Halo', 'Metal Gear Solid']\n"
          ]
        }
      ]
    },
    {
      "cell_type": "code",
      "source": [
        "7\n",
        "for index in range(len(video_games)):\n",
        "  if index > 2:\n",
        "    print(video_games[index])"
      ],
      "metadata": {
        "id": "0ryjZTmAnyM8",
        "colab": {
          "base_uri": "https://localhost:8080/"
        },
        "outputId": "3215297a-b206-40bf-a0d7-97e6a6693819"
      },
      "execution_count": null,
      "outputs": [
        {
          "output_type": "stream",
          "name": "stdout",
          "text": [
            "Splinter Cell\n",
            "The Last of Us\n"
          ]
        }
      ]
    }
  ]
}