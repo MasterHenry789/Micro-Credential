{
  "nbformat": 4,
  "nbformat_minor": 0,
  "metadata": {
    "colab": {
      "name": "Henry Fong - Assignment 5.ipynb",
      "provenance": [],
      "collapsed_sections": [],
      "include_colab_link": true
    },
    "kernelspec": {
      "name": "python3",
      "display_name": "Python 3"
    },
    "language_info": {
      "name": "python"
    }
  },
  "cells": [
    {
      "cell_type": "markdown",
      "metadata": {
        "id": "view-in-github",
        "colab_type": "text"
      },
      "source": [
        "<a href=\"https://colab.research.google.com/github/MasterHenry789/Micro-Credential/blob/main/Henry_Fong_Assignment_5.ipynb\" target=\"_parent\"><img src=\"https://colab.research.google.com/assets/colab-badge.svg\" alt=\"Open In Colab\"/></a>"
      ]
    },
    {
      "cell_type": "code",
      "execution_count": null,
      "metadata": {
        "colab": {
          "base_uri": "https://localhost:8080/"
        },
        "id": "9_MKsalSFefv",
        "outputId": "7ee663e3-71ab-47ed-a4b2-9755dece76b6"
      },
      "outputs": [
        {
          "output_type": "stream",
          "name": "stdout",
          "text": [
            "Hello Matthew, thank you for logging in again!\n",
            "Hello Kristen, thank you for logging in again!\n",
            "Hello admin, would you like to see a status report?\n",
            "Hello Erin, thank you for logging in again!\n",
            "Hello Sabrina, thank you for logging in again!\n"
          ]
        }
      ],
      "source": [
        "1\n",
        "user_names = ['Matthew', 'Kristen', 'admin', 'Erin', 'Sabrina']\n",
        "\n",
        "for user in user_names:\n",
        "    if user == 'admin':\n",
        "        print(\"Hello admin, would you like to see a status report?\")\n",
        "    else:\n",
        "        print(\"Hello \" + user + \", thank you for logging in again!\")"
      ]
    },
    {
      "cell_type": "code",
      "source": [
        "2\n",
        "numbers = [0, 1, 2, 3, 4, 5, 6, 7, 8, 9]\n",
        "for number in numbers:\n",
        "    if number == 1:\n",
        "        print(str(number) +\"st.\")\n",
        "    elif number == 2:\n",
        "        print(str(number) + \"nd.\")\n",
        "    elif number == 3:\n",
        "        print(str(number) + \"rd.\")\n",
        "    else:\n",
        "        print(str(number) +\"th.\")"
      ],
      "metadata": {
        "colab": {
          "base_uri": "https://localhost:8080/"
        },
        "id": "bvo-5rxHFlWs",
        "outputId": "1f3c7d05-bcaf-4743-e48f-f9348efea666"
      },
      "execution_count": null,
      "outputs": [
        {
          "output_type": "stream",
          "name": "stdout",
          "text": [
            "0th.\n",
            "1st.\n",
            "2nd.\n",
            "3rd.\n",
            "4th.\n",
            "5th.\n",
            "6th.\n",
            "7th.\n",
            "8th.\n",
            "9th.\n"
          ]
        }
      ]
    }
  ]
}