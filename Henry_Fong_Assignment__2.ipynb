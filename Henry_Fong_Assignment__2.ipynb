{
  "nbformat": 4,
  "nbformat_minor": 0,
  "metadata": {
    "colab": {
      "name": "Henry_Fong_Assignment _2.ipynb",
      "provenance": [],
      "collapsed_sections": [],
      "include_colab_link": true
    },
    "kernelspec": {
      "name": "python3",
      "display_name": "Python 3"
    },
    "language_info": {
      "name": "python"
    }
  },
  "cells": [
    {
      "cell_type": "markdown",
      "metadata": {
        "id": "view-in-github",
        "colab_type": "text"
      },
      "source": [
        "<a href=\"https://colab.research.google.com/github/MasterHenry789/Micro-Credential/blob/main/Henry_Fong_Assignment__2.ipynb\" target=\"_parent\"><img src=\"https://colab.research.google.com/assets/colab-badge.svg\" alt=\"Open In Colab\"/></a>"
      ]
    },
    {
      "cell_type": "code",
      "execution_count": null,
      "metadata": {
        "colab": {
          "base_uri": "https://localhost:8080/"
        },
        "id": "DGlq5Q4mWNuc",
        "outputId": "e0acba32-576c-437e-ddf1-0cf260f534c2"
      },
      "outputs": [
        {
          "output_type": "stream",
          "name": "stdout",
          "text": [
            "Python is a programming language created by Guido van Rossum which was first released in 1991. Python is open-sourced and free to use! Python's philosophy is that code should be easy to read and understand. Python has libaries that make it much easier to perform data analytics and visulizations. Python is useful can work on very big datasets with easyness. It analyzes data from a few thousands rows to millions of rows very easy. It can perform complex operations from machine learning to web development. Python's code can be saved and re-reun making processes automated and a huge time saver.\n"
          ]
        }
      ],
      "source": [
        "# Q1\n",
        "message = \"Python is a programming language created by Guido van Rossum which was first released in 1991. Python is open-sourced and free to use! Python's philosophy is that code should be easy to read and understand. Python has libaries that make it much easier to perform data analytics and visulizations. Python is useful can work on very big datasets with easyness. It analyzes data from a few thousands rows to millions of rows very easy. It can perform complex operations from machine learning to web development. Python's code can be saved and re-reun making processes automated and a huge time saver.\"\n",
        "print(message)"
      ]
    },
    {
      "cell_type": "code",
      "source": [
        "# Q2\n",
        "# B,C,E are correct.\n",
        "\n",
        "# B. Greeting_message\n",
        "# C. Message_1\n",
        "# E. Full_name"
      ],
      "metadata": {
        "id": "9soqCPwUhK30"
      },
      "execution_count": 2,
      "outputs": []
    },
    {
      "cell_type": "code",
      "source": [
        "# Q3\n",
        "greeting = \"hello there!\"\n",
        "print(greeting)"
      ],
      "metadata": {
        "colab": {
          "base_uri": "https://localhost:8080/"
        },
        "id": "W9wEr_Z3hijt",
        "outputId": "659e3289-cc70-4a9a-8c07-590c7a9fae6d"
      },
      "execution_count": null,
      "outputs": [
        {
          "output_type": "stream",
          "name": "stdout",
          "text": [
            "hello there!\n"
          ]
        }
      ]
    },
    {
      "cell_type": "code",
      "source": [
        "# Q4\n",
        "firstName = \"henry\"\n",
        "lastName = \"fong\"\n",
        "# use name of variables not values\n",
        "print(firstName + '.' + lastName + '@baruchmail.cuny.edu')\n",
        "# email = str(henry.fong@baruchmail.cuny.edu)"
      ],
      "metadata": {
        "colab": {
          "base_uri": "https://localhost:8080/"
        },
        "id": "lswLFaRwht_3",
        "outputId": "d8308f88-77f7-465c-f044-f6549b8b4cd8"
      },
      "execution_count": null,
      "outputs": [
        {
          "output_type": "stream",
          "name": "stdout",
          "text": [
            "henry.fong@baruchmail.cuny.edu\n"
          ]
        }
      ]
    },
    {
      "cell_type": "code",
      "source": [
        "# Q5\n",
        "name = \"Elizabeth Hoffman\"\n",
        "print(name.upper())\n",
        "print(name.lower())"
      ],
      "metadata": {
        "colab": {
          "base_uri": "https://localhost:8080/"
        },
        "id": "u5eAH292h9wf",
        "outputId": "bf1a7e3c-e810-4438-92b7-5e617f7455b2"
      },
      "execution_count": null,
      "outputs": [
        {
          "output_type": "stream",
          "name": "stdout",
          "text": [
            "ELIZABETH HOFFMAN\n",
            "elizabeth hoffman\n"
          ]
        }
      ]
    },
    {
      "cell_type": "code",
      "source": [
        "# Q6\n",
        "day = 15\n",
        "print(\"Do you want to hangout on the \" + \"\" + str(day) + \"\" + \"th of the month?\")"
      ],
      "metadata": {
        "colab": {
          "base_uri": "https://localhost:8080/"
        },
        "id": "YdGOCI3liTdu",
        "outputId": "d0c75514-a7ad-44f7-c7c5-dcb8c3183c6b"
      },
      "execution_count": 1,
      "outputs": [
        {
          "output_type": "stream",
          "name": "stdout",
          "text": [
            "Do you want to hangout on the 15th of the month?\n"
          ]
        }
      ]
    }
  ]
}