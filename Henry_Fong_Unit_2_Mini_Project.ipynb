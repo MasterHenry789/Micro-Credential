{
  "nbformat": 4,
  "nbformat_minor": 0,
  "metadata": {
    "colab": {
      "name": "Henry Fong - Unit 2 Mini-Project.ipynb",
      "provenance": [],
      "collapsed_sections": [],
      "authorship_tag": "ABX9TyOlZdsWg3+tuc50A6D2/1Sl",
      "include_colab_link": true
    },
    "kernelspec": {
      "name": "python3",
      "display_name": "Python 3"
    },
    "language_info": {
      "name": "python"
    }
  },
  "cells": [
    {
      "cell_type": "markdown",
      "metadata": {
        "id": "view-in-github",
        "colab_type": "text"
      },
      "source": [
        "<a href=\"https://colab.research.google.com/github/MasterHenry789/Micro-Credential/blob/main/Henry_Fong_Unit_2_Mini_Project.ipynb\" target=\"_parent\"><img src=\"https://colab.research.google.com/assets/colab-badge.svg\" alt=\"Open In Colab\"/></a>"
      ]
    },
    {
      "cell_type": "code",
      "execution_count": 10,
      "metadata": {
        "id": "zRXi2ALkWDHu",
        "colab": {
          "base_uri": "https://localhost:8080/",
          "height": 131
        },
        "outputId": "8355504e-45d3-493b-e684-7844fbf84d6b"
      },
      "outputs": [
        {
          "output_type": "error",
          "ename": "SyntaxError",
          "evalue": "ignored",
          "traceback": [
            "\u001b[0;36m  File \u001b[0;32m\"<ipython-input-10-5abba09d0630>\"\u001b[0;36m, line \u001b[0;32m15\u001b[0m\n\u001b[0;31m    else :\u001b[0m\n\u001b[0m       ^\u001b[0m\n\u001b[0;31mSyntaxError\u001b[0m\u001b[0;31m:\u001b[0m invalid syntax\n"
          ]
        }
      ],
      "source": [
        "# UNIT 2 - Mini Project\n",
        "\n",
        "num = int(input(\"Enter the number to check : \"))\n",
        "check = int(input(\"Enter the number to divide : \"))\n",
        "if num % 2 == 0 :\n",
        "  print(str(num) +\" is even.\")\n",
        "elif num % 2 != 0 :\n",
        "  print(str(num) + \" is odd.\")\n",
        "if num % 4 == 0 :\n",
        "  print(str(num) + \" can be multiplied by 4.\")\n",
        "if num % check == 0 :\n",
        "  print(str(check) , + \" evenly divides \" + str(num))\n",
        "else :\n",
        "  print(str(check) + \" doesn't evenly divide \" + str(num))\n",
        "else : \n",
        "  print(str(num) + \" is my main program code \"))"
      ]
    }
  ]
}