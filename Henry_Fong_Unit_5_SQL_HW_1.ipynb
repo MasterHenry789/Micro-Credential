{
  "nbformat": 4,
  "nbformat_minor": 0,
  "metadata": {
    "colab": {
      "name": "Henry Fong - Unit 5 SQL HW 1.ipynb",
      "provenance": [],
      "collapsed_sections": [],
      "authorship_tag": "ABX9TyP1VHpynnMVM2m98gq4mQGY",
      "include_colab_link": true
    },
    "kernelspec": {
      "name": "python3",
      "display_name": "Python 3"
    },
    "language_info": {
      "name": "python"
    }
  },
  "cells": [
    {
      "cell_type": "markdown",
      "metadata": {
        "id": "view-in-github",
        "colab_type": "text"
      },
      "source": [
        "<a href=\"https://colab.research.google.com/github/MasterHenry789/Micro-Credential/blob/main/Henry_Fong_Unit_5_SQL_HW_1.ipynb\" target=\"_parent\"><img src=\"https://colab.research.google.com/assets/colab-badge.svg\" alt=\"Open In Colab\"/></a>"
      ]
    },
    {
      "cell_type": "code",
      "source": [
        "#1\n",
        "SELECT * \n",
        "FROM customer;"
      ],
      "metadata": {
        "colab": {
          "base_uri": "https://localhost:8080/",
          "height": 131
        },
        "id": "JEG6yrsh-jTo",
        "outputId": "e4bef5bc-8ca7-4c6f-d59c-21bc1ba6adee"
      },
      "execution_count": null,
      "outputs": [
        {
          "output_type": "error",
          "ename": "SyntaxError",
          "evalue": "ignored",
          "traceback": [
            "\u001b[0;36m  File \u001b[0;32m\"<ipython-input-1-7e38c0651f5c>\"\u001b[0;36m, line \u001b[0;32m2\u001b[0m\n\u001b[0;31m    SELECT * FROM \"Locations\";\u001b[0m\n\u001b[0m                            ^\u001b[0m\n\u001b[0;31mSyntaxError\u001b[0m\u001b[0;31m:\u001b[0m invalid syntax\n"
          ]
        }
      ]
    },
    {
      "cell_type": "code",
      "source": [
        "#2\n",
        "SELECT first_name \"First Name\", last_name \"Last Name\", email \n",
        "  FROM customer"
      ],
      "metadata": {
        "id": "OcCl6OKuCshT"
      },
      "execution_count": null,
      "outputs": []
    },
    {
      "cell_type": "code",
      "source": [
        "#3\n",
        "SELECT * \n",
        "FROM FILM"
      ],
      "metadata": {
        "id": "miuzfqudOJpy"
      },
      "execution_count": null,
      "outputs": []
    },
    {
      "cell_type": "code",
      "source": [
        "#4\n",
        "SELECT DISTINCT(release_year)\n",
        "FROM FILM;"
      ],
      "metadata": {
        "id": "IDuZnbm-QaRH"
      },
      "execution_count": null,
      "outputs": []
    },
    {
      "cell_type": "code",
      "source": [
        "#5\n",
        "SELECT DISTINCT(rental_rate)\n",
        "FROM FILM;"
      ],
      "metadata": {
        "id": "BvOAL2PYWa4W"
      },
      "execution_count": null,
      "outputs": []
    },
    {
      "cell_type": "code",
      "source": [
        "#6\n",
        "SELECT first_name, last_name, email\n",
        "FROM customer\n",
        "WHERE first_name = 'Nancy' AND last_name = 'Thomas';"
      ],
      "metadata": {
        "id": "rHAsCmYuWigk"
      },
      "execution_count": null,
      "outputs": []
    },
    {
      "cell_type": "code",
      "source": [
        "#7\n",
        "SELECT address, phone\n",
        "FROM address\n",
        "WHERE address = '259 Ipon Drive';"
      ],
      "metadata": {
        "id": "nODdRbxVWyrZ"
      },
      "execution_count": null,
      "outputs": []
    },
    {
      "cell_type": "code",
      "source": [
        "#8\n",
        "SELECT store_id, address_id\n",
        "FROM customer\n",
        "WHERE store_id = 1 AND address_id > 150;"
      ],
      "metadata": {
        "id": "HTtMhT4LW5Xy"
      },
      "execution_count": null,
      "outputs": []
    },
    {
      "cell_type": "code",
      "source": [
        "#9\n",
        "SELECT *\n",
        "FROM payment\n",
        "WHERE amount = 4.99 OR amount = 1.99;"
      ],
      "metadata": {
        "id": "WHdas3kkXIvc"
      },
      "execution_count": null,
      "outputs": []
    },
    {
      "cell_type": "code",
      "source": [
        "#10\n",
        "SELECT *\n",
        "FROM payment\n",
        "WHERE amount > 5;"
      ],
      "metadata": {
        "id": "5IL0cy1uXXCS"
      },
      "execution_count": null,
      "outputs": []
    }
  ]
}