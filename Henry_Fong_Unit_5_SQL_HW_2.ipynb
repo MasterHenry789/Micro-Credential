{
  "nbformat": 4,
  "nbformat_minor": 0,
  "metadata": {
    "colab": {
      "name": "Henry Fong - Unit 5 SQL HW 2.ipynb",
      "provenance": [],
      "collapsed_sections": [],
      "authorship_tag": "ABX9TyOJcX0BTp0stqcEjmpt2Sy7",
      "include_colab_link": true
    },
    "kernelspec": {
      "name": "python3",
      "display_name": "Python 3"
    },
    "language_info": {
      "name": "python"
    }
  },
  "cells": [
    {
      "cell_type": "markdown",
      "metadata": {
        "id": "view-in-github",
        "colab_type": "text"
      },
      "source": [
        "<a href=\"https://colab.research.google.com/github/MasterHenry789/Micro-Credential/blob/main/Henry_Fong_Unit_5_SQL_HW_2.ipynb\" target=\"_parent\"><img src=\"https://colab.research.google.com/assets/colab-badge.svg\" alt=\"Open In Colab\"/></a>"
      ]
    },
    {
      "cell_type": "code",
      "execution_count": null,
      "metadata": {
        "id": "H-hc16naXlMH"
      },
      "outputs": [],
      "source": [
        "#1\n",
        "SELECT *\n",
        "FROM film as f\n",
        "JOIN film_actor as fa\n",
        "ON f.film_id = fa.film_id;"
      ]
    },
    {
      "cell_type": "code",
      "source": [
        "#2\n",
        "SELECT * \n",
        "FROM actor as a\n",
        "JOIN film_actor as fa\n",
        "ON a.actor_id = fa.actor_id;"
      ],
      "metadata": {
        "id": "4ud8Z_1CX4ll"
      },
      "execution_count": null,
      "outputs": []
    },
    {
      "cell_type": "code",
      "source": [
        "#3\n",
        "SELECT *\n",
        "FROM actor as a\n",
        "JOIN film_actor as fa\n",
        "ON a.actor_id = fa.actor_id\n",
        "    JOIN film as f\n",
        "    ON f.film_id = fa.film_id;"
      ],
      "metadata": {
        "id": "7R_TOMSMYD-s"
      },
      "execution_count": null,
      "outputs": []
    }
  ]
}