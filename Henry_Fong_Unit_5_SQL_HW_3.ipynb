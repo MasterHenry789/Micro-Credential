{
  "nbformat": 4,
  "nbformat_minor": 0,
  "metadata": {
    "colab": {
      "name": "Henry Fong - Unit 5 SQL HW 3.ipynb",
      "provenance": [],
      "collapsed_sections": [],
      "authorship_tag": "ABX9TyPu2EUmYLoDnXAGTd2gyjml",
      "include_colab_link": true
    },
    "kernelspec": {
      "name": "python3",
      "display_name": "Python 3"
    },
    "language_info": {
      "name": "python"
    }
  },
  "cells": [
    {
      "cell_type": "markdown",
      "metadata": {
        "id": "view-in-github",
        "colab_type": "text"
      },
      "source": [
        "<a href=\"https://colab.research.google.com/github/MasterHenry789/Micro-Credential/blob/main/Henry_Fong_Unit_5_SQL_HW_3.ipynb\" target=\"_parent\"><img src=\"https://colab.research.google.com/assets/colab-badge.svg\" alt=\"Open In Colab\"/></a>"
      ]
    },
    {
      "cell_type": "code",
      "execution_count": null,
      "metadata": {
        "id": "iBAW1az3sUks"
      },
      "outputs": [],
      "source": [
        ""
      ]
    },
    {
      "cell_type": "code",
      "source": [
        "#1\n",
        "CREATE TABLE customers (\n",
        "    CustomerID      INT NOT NULL PRIMARY KEY,\n",
        "    CustomerName    VARCHAR (100),\n",
        "    Address         VARCHAR (100),\n",
        "    City            VARCHAR (20),\n",
        "    PostalCode      INT,\n",
        "    Country         VARCHAR (50),\n",
        "    Email           VARCHAR (50)"
      ],
      "metadata": {
        "id": "OVkV9LXaweng"
      },
      "execution_count": null,
      "outputs": []
    },
    {
      "cell_type": "code",
      "source": [
        "#2\n",
        "INSERT INTO customers (customerid, customername, address, city, postalcode, country, email)\n",
        "VALUES (001, 'Teresa', '14 St.','New York', 11001, 'US','teresa568@outlook.com'),\n",
        "       (002, 'Sarah','48-72 36 St.','New York', 11102, 'US','sarah887@gmail.com'),\n",
        "       (003, 'Joel', '116 W Seaway', 'Texas', 78724, 'US', 'joelmiller872@outlook.com');\n",
        "       \n",
        "SELECT *\n",
        "FROM customers;"
      ],
      "metadata": {
        "id": "PhucSh_ew5Kz"
      },
      "execution_count": null,
      "outputs": []
    },
    {
      "cell_type": "code",
      "source": [
        "#3\n",
        "UPDATE customers\n",
        "SET address = '1125 Seattle Drive', postal code = 78746\n",
        "WHERE customername = 'Joel';\n",
        "\n",
        "SELECT *\n",
        "FROM customers;"
      ],
      "metadata": {
        "id": "jcvRuLNmyBtk"
      },
      "execution_count": null,
      "outputs": []
    },
    {
      "cell_type": "code",
      "source": [
        "#4\n",
        "DELETE\n",
        "FROM customers\n",
        "WHERE customername = 'Maria';\n",
        "\n",
        "SELECT *\n",
        "FROM customers;"
      ],
      "metadata": {
        "id": "ocJcouzc06vy"
      },
      "execution_count": null,
      "outputs": []
    },
    {
      "cell_type": "code",
      "source": [
        "#5\n"
      ],
      "metadata": {
        "id": "aPf-RDY41Mcd"
      },
      "execution_count": null,
      "outputs": []
    }
  ]
}