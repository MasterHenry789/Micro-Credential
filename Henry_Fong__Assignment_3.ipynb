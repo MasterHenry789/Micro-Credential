{
  "nbformat": 4,
  "nbformat_minor": 0,
  "metadata": {
    "colab": {
      "name": "Henry_Fong _Assignment_3.ipynb",
      "provenance": [],
      "collapsed_sections": [],
      "include_colab_link": true
    },
    "kernelspec": {
      "name": "python3",
      "display_name": "Python 3"
    },
    "language_info": {
      "name": "python"
    }
  },
  "cells": [
    {
      "cell_type": "markdown",
      "metadata": {
        "id": "view-in-github",
        "colab_type": "text"
      },
      "source": [
        "<a href=\"https://colab.research.google.com/github/MasterHenry789/Micro-Credential/blob/main/Henry_Fong__Assignment_3.ipynb\" target=\"_parent\"><img src=\"https://colab.research.google.com/assets/colab-badge.svg\" alt=\"Open In Colab\"/></a>"
      ]
    },
    {
      "cell_type": "code",
      "execution_count": 6,
      "metadata": {
        "colab": {
          "base_uri": "https://localhost:8080/"
        },
        "id": "-beDXnUjiyGf",
        "outputId": "3916f005-d072-4a94-8ba7-dc69887c0d82"
      },
      "outputs": [
        {
          "output_type": "stream",
          "name": "stdout",
          "text": [
            "['Supernautral', 'The Big Bang Theory', '24', 'The Walking Dead', 'Modern Family']\n"
          ]
        }
      ],
      "source": [
        "# Q1\n",
        "tv_shows = ['Supernautral','The Big Bang Theory','24','The Walking Dead','Modern Family']\n",
        "print(tv_shows)"
      ]
    },
    {
      "cell_type": "code",
      "source": [
        "# Q2\n",
        "# Print the list in its original order.\n",
        "# call variable\n",
        "print(tv_shows)"
      ],
      "metadata": {
        "colab": {
          "base_uri": "https://localhost:8080/"
        },
        "id": "rWXn8KdMjWTO",
        "outputId": "7eb40a6c-cd28-428b-9322-e1de469b2caf"
      },
      "execution_count": 7,
      "outputs": [
        {
          "output_type": "stream",
          "name": "stdout",
          "text": [
            "['Supernautral', 'The Big Bang Theory', '24', 'The Walking Dead', 'Modern Family']\n"
          ]
        }
      ]
    },
    {
      "cell_type": "code",
      "source": [
        "# Q3\n",
        "# Use the sorted() function to print the list in alphabetical order. \n",
        "# how is sorted() different from sort()? \n",
        "# Answer: It will print a list in alphabetical order not in the way it written.\n",
        "\n",
        "show_show = sorted(tv_shows) \n",
        "print(show_show)\n",
        "\n",
        "# sort() will sort the list in place\n",
        "# sorted() will return a new sorted list leaving the original list unchanged"
      ],
      "metadata": {
        "colab": {
          "base_uri": "https://localhost:8080/"
        },
        "id": "o7g5gx3Bk2lU",
        "outputId": "4591d081-cb49-4dfd-befb-613583107b51"
      },
      "execution_count": 8,
      "outputs": [
        {
          "output_type": "stream",
          "name": "stdout",
          "text": [
            "['24', 'Modern Family', 'Supernautral', 'The Big Bang Theory', 'The Walking Dead']\n"
          ]
        }
      ]
    },
    {
      "cell_type": "code",
      "source": [
        "# Q4\n",
        "# Print out the original list\n",
        "print(tv_shows)"
      ],
      "metadata": {
        "colab": {
          "base_uri": "https://localhost:8080/"
        },
        "id": "3BBbZi_BlDHO",
        "outputId": "8bc8a67d-a4e0-4f87-b7cc-2c6e9a5ce1b1"
      },
      "execution_count": 9,
      "outputs": [
        {
          "output_type": "stream",
          "name": "stdout",
          "text": [
            "['Supernautral', 'The Big Bang Theory', '24', 'The Walking Dead', 'Modern Family']\n"
          ]
        }
      ]
    },
    {
      "cell_type": "code",
      "source": [
        "# Q5\n",
        "#Use sorted() to print your list in reverse alphabetical order\n",
        "\n",
        "show_show = sorted(tv_shows, reverse=True) \n",
        "print(show_show)\n",
        "\n",
        "# print(places)\n",
        "# places.sort reverse=True)"
      ],
      "metadata": {
        "colab": {
          "base_uri": "https://localhost:8080/"
        },
        "id": "3-FHAlJOlFyd",
        "outputId": "557b8e11-6d37-4cba-ee3d-e461d1b910dd"
      },
      "execution_count": 10,
      "outputs": [
        {
          "output_type": "stream",
          "name": "stdout",
          "text": [
            "['The Walking Dead', 'The Big Bang Theory', 'Supernautral', 'Modern Family', '24']\n"
          ]
        }
      ]
    },
    {
      "cell_type": "code",
      "source": [
        "# Q6\n",
        "# Create a message indicating how many favorite TV shows you have - use the len() function.\n",
        "show_show = len(tv_shows)\n",
        "print(show_show)\n",
        "\n",
        "# message = \"I have 5 favorite tv shows.\"\n",
        "# len(message)"
      ],
      "metadata": {
        "colab": {
          "base_uri": "https://localhost:8080/"
        },
        "id": "VLmbox_DlNwa",
        "outputId": "e0eb5934-04cb-4e11-eefc-56cf3169a89a"
      },
      "execution_count": 11,
      "outputs": [
        {
          "output_type": "stream",
          "name": "stdout",
          "text": [
            "5\n"
          ]
        }
      ]
    }
  ]
}